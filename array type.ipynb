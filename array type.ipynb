{
 "cells": [
  {
   "cell_type": "markdown",
   "id": "4cfd9a18",
   "metadata": {},
   "source": [
    "# 1)To check whether string is palindrame or not"
   ]
  },
  {
   "cell_type": "code",
   "execution_count": 5,
   "id": "142c3515",
   "metadata": {},
   "outputs": [
    {
     "name": "stdout",
     "output_type": "stream",
     "text": [
      "Enter the string..madam\n",
      "Given string is palindrame\n"
     ]
    }
   ],
   "source": [
    "s=input(\"Enter the string..\")\n",
    "s1=s[::-1]\n",
    "if s==s1:\n",
    "    print(\"Given string is palindrame\")\n",
    "\n"
   ]
  },
  {
   "cell_type": "markdown",
   "id": "7e084807",
   "metadata": {},
   "source": [
    "# 2) Reverse words in a given string"
   ]
  },
  {
   "cell_type": "code",
   "execution_count": 7,
   "id": "a82d7c45",
   "metadata": {},
   "outputs": [
    {
     "data": {
      "text/plain": [
       "'TInoskcaR'"
      ]
     },
     "execution_count": 7,
     "metadata": {},
     "output_type": "execute_result"
    }
   ],
   "source": [
    "a=\"RacksonIT\"\n",
    "a[::-1]"
   ]
  },
  {
   "cell_type": "markdown",
   "id": "9a5df296",
   "metadata": {},
   "source": [
    "# 3)To print even length words in a string"
   ]
  },
  {
   "cell_type": "code",
   "execution_count": 9,
   "id": "5a7510ea",
   "metadata": {},
   "outputs": [
    {
     "name": "stdout",
     "output_type": "stream",
     "text": [
      "R 0\n",
      "c 2\n",
      "s 4\n",
      "n 6\n",
      "T 8\n"
     ]
    }
   ],
   "source": [
    "a1=\"RacksonIT\"\n",
    "for x in a1:\n",
    "    a2=a1.index(x)\n",
    "    if a2%2==0:\n",
    "        print(x,a2)\n"
   ]
  },
  {
   "cell_type": "markdown",
   "id": "2a74744b",
   "metadata": {},
   "source": [
    "# 4)To find the size of a tuple"
   ]
  },
  {
   "cell_type": "code",
   "execution_count": 10,
   "id": "9de95c68",
   "metadata": {},
   "outputs": [
    {
     "data": {
      "text/plain": [
       "('mango', 'apple', 'banna', 'orange')"
      ]
     },
     "execution_count": 10,
     "metadata": {},
     "output_type": "execute_result"
    }
   ],
   "source": [
    "a=(\"mango\",\"apple\",\"banna\",\"orange\")\n",
    "a"
   ]
  },
  {
   "cell_type": "code",
   "execution_count": 11,
   "id": "3ed8ca81",
   "metadata": {},
   "outputs": [
    {
     "data": {
      "text/plain": [
       "4"
      ]
     },
     "execution_count": 11,
     "metadata": {},
     "output_type": "execute_result"
    }
   ],
   "source": [
    "len(a)"
   ]
  },
  {
   "cell_type": "markdown",
   "id": "93fa2e0f",
   "metadata": {},
   "source": [
    "# 5)Find out max and min k element in tuple"
   ]
  },
  {
   "cell_type": "code",
   "execution_count": 12,
   "id": "4322b7e9",
   "metadata": {},
   "outputs": [
    {
     "data": {
      "text/plain": [
       "60"
      ]
     },
     "execution_count": 12,
     "metadata": {},
     "output_type": "execute_result"
    }
   ],
   "source": [
    "z=(10,20,30,40,40,50,60)\n",
    "max(z)"
   ]
  },
  {
   "cell_type": "code",
   "execution_count": 13,
   "id": "93aa4b3c",
   "metadata": {},
   "outputs": [
    {
     "data": {
      "text/plain": [
       "10"
      ]
     },
     "execution_count": 13,
     "metadata": {},
     "output_type": "execute_result"
    }
   ],
   "source": [
    "min(z)"
   ]
  },
  {
   "cell_type": "markdown",
   "id": "6022c64d",
   "metadata": {},
   "source": [
    "# 6)Sum of tuple element "
   ]
  },
  {
   "cell_type": "code",
   "execution_count": 14,
   "id": "e14fd637",
   "metadata": {},
   "outputs": [
    {
     "data": {
      "text/plain": [
       "(10, 20, 30, 40, 40, 50, 60)"
      ]
     },
     "execution_count": 14,
     "metadata": {},
     "output_type": "execute_result"
    }
   ],
   "source": [
    "z"
   ]
  },
  {
   "cell_type": "code",
   "execution_count": 15,
   "id": "5a9814a1",
   "metadata": {},
   "outputs": [
    {
     "data": {
      "text/plain": [
       "250"
      ]
     },
     "execution_count": 15,
     "metadata": {},
     "output_type": "execute_result"
    }
   ],
   "source": [
    "sum(z)"
   ]
  },
  {
   "cell_type": "markdown",
   "id": "886bd31f",
   "metadata": {},
   "source": [
    "# 7)Sort python dictionaries by key/values"
   ]
  },
  {
   "cell_type": "code",
   "execution_count": 17,
   "id": "db4e3409",
   "metadata": {},
   "outputs": [],
   "source": [
    "d={\"a\":100,\"b\":45,\"c\":86,\"d\":52}"
   ]
  },
  {
   "cell_type": "code",
   "execution_count": 18,
   "id": "a34839d7",
   "metadata": {},
   "outputs": [
    {
     "data": {
      "text/plain": [
       "dict_keys(['a', 'b', 'c', 'd'])"
      ]
     },
     "execution_count": 18,
     "metadata": {},
     "output_type": "execute_result"
    }
   ],
   "source": [
    "d.keys()"
   ]
  },
  {
   "cell_type": "code",
   "execution_count": 21,
   "id": "a2ebe206",
   "metadata": {},
   "outputs": [
    {
     "data": {
      "text/plain": [
       "dict_values([100, 45, 86, 52])"
      ]
     },
     "execution_count": 21,
     "metadata": {},
     "output_type": "execute_result"
    }
   ],
   "source": [
    "d1=d.values()\n",
    "d1"
   ]
  },
  {
   "cell_type": "markdown",
   "id": "3508901f",
   "metadata": {},
   "source": [
    "# 8) find the sum of all items in a dictionary"
   ]
  },
  {
   "cell_type": "code",
   "execution_count": 22,
   "id": "d0756e6c",
   "metadata": {},
   "outputs": [
    {
     "data": {
      "text/plain": [
       "dict_values([100, 45, 86, 52])"
      ]
     },
     "execution_count": 22,
     "metadata": {},
     "output_type": "execute_result"
    }
   ],
   "source": [
    "d1"
   ]
  },
  {
   "cell_type": "code",
   "execution_count": 23,
   "id": "2e622f92",
   "metadata": {},
   "outputs": [
    {
     "data": {
      "text/plain": [
       "283"
      ]
     },
     "execution_count": 23,
     "metadata": {},
     "output_type": "execute_result"
    }
   ],
   "source": [
    "sum(d1)"
   ]
  },
  {
   "cell_type": "markdown",
   "id": "c3e1b94f",
   "metadata": {},
   "source": [
    "# 9) To swap two element in a list"
   ]
  },
  {
   "cell_type": "code",
   "execution_count": 24,
   "id": "e13f7de2",
   "metadata": {},
   "outputs": [],
   "source": [
    "b=[5,6,4,7,8,9]\n",
    "b[1],b[3]=b[3],b[1]"
   ]
  },
  {
   "cell_type": "code",
   "execution_count": 25,
   "id": "3245cc03",
   "metadata": {},
   "outputs": [
    {
     "name": "stdout",
     "output_type": "stream",
     "text": [
      "[5, 7, 4, 6, 8, 9]\n"
     ]
    }
   ],
   "source": [
    "print(b)"
   ]
  },
  {
   "cell_type": "markdown",
   "id": "73ab9768",
   "metadata": {},
   "source": [
    "# 10)To interchange first and last element in a list"
   ]
  },
  {
   "cell_type": "code",
   "execution_count": 27,
   "id": "f3410846",
   "metadata": {},
   "outputs": [
    {
     "name": "stdout",
     "output_type": "stream",
     "text": [
      "['orange', 'apple', 'banna', 'mango']\n"
     ]
    }
   ],
   "source": [
    "p=[\"mango\",\"apple\",\"banna\",\"orange\"]\n",
    "p[0],p[3]=p[3],p[0]\n",
    "print(p)"
   ]
  },
  {
   "cell_type": "code",
   "execution_count": null,
   "id": "b7aa506f",
   "metadata": {},
   "outputs": [],
   "source": []
  }
 ],
 "metadata": {
  "kernelspec": {
   "display_name": "Python 3 (ipykernel)",
   "language": "python",
   "name": "python3"
  },
  "language_info": {
   "codemirror_mode": {
    "name": "ipython",
    "version": 3
   },
   "file_extension": ".py",
   "mimetype": "text/x-python",
   "name": "python",
   "nbconvert_exporter": "python",
   "pygments_lexer": "ipython3",
   "version": "3.9.12"
  }
 },
 "nbformat": 4,
 "nbformat_minor": 5
}
