{
 "cells": [
  {
   "cell_type": "markdown",
   "id": "57cdc103",
   "metadata": {},
   "source": [
    "## If Condition"
   ]
  },
  {
   "cell_type": "code",
   "execution_count": 5,
   "id": "9db6cb62",
   "metadata": {},
   "outputs": [],
   "source": [
    "# if is used for Conditional Statements,if condition is true then if block executes"
   ]
  },
  {
   "cell_type": "code",
   "execution_count": 6,
   "id": "cd0183ad",
   "metadata": {},
   "outputs": [
    {
     "name": "stdout",
     "output_type": "stream",
     "text": [
      "b is greater than a\n"
     ]
    }
   ],
   "source": [
    "a = 33\n",
    "b = 200\n",
    "if b > a:\n",
    "    print(\"b is greater than a\")\n"
   ]
  },
  {
   "cell_type": "markdown",
   "id": "4b434a79",
   "metadata": {},
   "source": [
    "## If-Else"
   ]
  },
  {
   "cell_type": "code",
   "execution_count": 1,
   "id": "890cdb6d",
   "metadata": {},
   "outputs": [
    {
     "name": "stdout",
     "output_type": "stream",
     "text": [
      "NOT CORRECT !!\n"
     ]
    }
   ],
   "source": [
    "a = 200\n",
    "b = 200\n",
    "if b > a:\n",
    "    print(\"b is greater than a\")\n",
    "else:\n",
    "    print(\"NOT CORRECT !!\")"
   ]
  },
  {
   "cell_type": "code",
   "execution_count": 1,
   "id": "90570f98",
   "metadata": {},
   "outputs": [
    {
     "name": "stdout",
     "output_type": "stream",
     "text": [
      "Enter the n value::2\n",
      "Enter the 1st value:2541\n",
      "Enter the 2nd value:2312\n",
      "----------------------\n",
      "Values are not Equal\n",
      "......................\n",
      "......................\n",
      "Enter the 1st value:52\n",
      "Enter the 2nd value:52\n",
      "--------------------\n",
      "values are Equal\n",
      "......................\n",
      "......................\n"
     ]
    }
   ],
   "source": [
    "n=int(input(\"Enter the n value::\"))\n",
    "for x in range(n):\n",
    "    a=int(input(\"Enter the 1st value:\"))\n",
    "    b=int(input(\"Enter the 2nd value:\"))\n",
    "    if a==b:\n",
    "        print(\"--------------------\")\n",
    "        print(\"values are Equal\")\n",
    "        print(\"......................\")\n",
    "        print(\"......................\")\n",
    "    else:\n",
    "        print(\"----------------------\")\n",
    "        print(\"Values are not Equal\")\n",
    "        print(\"......................\")\n",
    "        print(\"......................\")        "
   ]
  },
  {
   "cell_type": "code",
   "execution_count": 4,
   "id": "684f08a4",
   "metadata": {},
   "outputs": [],
   "source": [
    "# classify the result in pass ,distinction or fail"
   ]
  },
  {
   "cell_type": "code",
   "execution_count": 5,
   "id": "071b6ebc",
   "metadata": {},
   "outputs": [
    {
     "name": "stdout",
     "output_type": "stream",
     "text": [
      "enter the name:..rutuja\n",
      "enter the marks:63\n",
      "first class..\n",
      "-----------------\n",
      "enter the marks:25\n",
      "you are failed..\n",
      "-----------------\n",
      "enter the marks:89\n",
      "first class with distinction\n",
      "-----------------\n"
     ]
    }
   ],
   "source": [
    "studentname=input(\"enter the name:..\")\n",
    "m=[]\n",
    "for x in range(3):\n",
    "    marks=int(input(\"enter the marks:\"))\n",
    "    if 35<marks<=60:\n",
    "        print(\"you are pass..\")\n",
    "    elif 60<marks<=80:\n",
    "        print(\"first class..\")\n",
    "    elif 80<marks<99:\n",
    "        print(\"first class with distinction\")\n",
    "        m.append(marks)\n",
    "    else:\n",
    "        print(\"you are failed..\")\n",
    "    print(\"-----------------\")"
   ]
  },
  {
   "cell_type": "code",
   "execution_count": 6,
   "id": "d67f2c69",
   "metadata": {},
   "outputs": [],
   "source": [
    "#checking login is successfull or not"
   ]
  },
  {
   "cell_type": "code",
   "execution_count": 7,
   "id": "842a8d2d",
   "metadata": {},
   "outputs": [
    {
     "name": "stdout",
     "output_type": "stream",
     "text": [
      "enter the user:python123\n",
      "enter the pass:Pune@123\n",
      "incorrect Id or Password...\n",
      "enter the user:python@123\n",
      "enter the pass:Pune@123\n",
      "incorrect Id or Password...\n",
      "enter the user:python#123\n",
      "enter the pass:Pune@123\n",
      "login sucessfully....\n",
      "---------------------------\n"
     ]
    }
   ],
   "source": [
    "for x in \"abc\":\n",
    "    Id=input(\"enter the user:\")\n",
    "    pas=input(\"enter the pass:\")\n",
    "    if Id==\"python#123\" and pas==\"Pune@123\":\n",
    "        print(\"login sucessfully....\")\n",
    "    else:\n",
    "        print(\"incorrect Id or Password...\")\n",
    "print(\"---------------------------\")"
   ]
  },
  {
   "cell_type": "code",
   "execution_count": 8,
   "id": "dada6412",
   "metadata": {},
   "outputs": [],
   "source": [
    "#cheching given number is odd or even"
   ]
  },
  {
   "cell_type": "code",
   "execution_count": 10,
   "id": "f4ad6098",
   "metadata": {},
   "outputs": [
    {
     "name": "stdout",
     "output_type": "stream",
     "text": [
      "0 number is even...\n",
      "1 number is odd\n",
      "2 number is even...\n",
      "3 number is odd\n",
      "4 number is even...\n",
      "5 number is odd\n"
     ]
    }
   ],
   "source": [
    "for x in range(6):\n",
    "    if x%2==0:\n",
    "        print(x,\"number is even...\")\n",
    "    else:\n",
    "        print(x,\"number is odd\")"
   ]
  },
  {
   "cell_type": "code",
   "execution_count": null,
   "id": "6e262d66",
   "metadata": {},
   "outputs": [],
   "source": []
  }
 ],
 "metadata": {
  "kernelspec": {
   "display_name": "Python 3 (ipykernel)",
   "language": "python",
   "name": "python3"
  },
  "language_info": {
   "codemirror_mode": {
    "name": "ipython",
    "version": 3
   },
   "file_extension": ".py",
   "mimetype": "text/x-python",
   "name": "python",
   "nbconvert_exporter": "python",
   "pygments_lexer": "ipython3",
   "version": "3.9.12"
  }
 },
 "nbformat": 4,
 "nbformat_minor": 5
}
