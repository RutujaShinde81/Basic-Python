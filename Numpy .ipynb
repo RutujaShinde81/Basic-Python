{
 "cells": [
  {
   "cell_type": "code",
   "execution_count": 1,
   "id": "f098782c",
   "metadata": {},
   "outputs": [],
   "source": [
    "import numpy as np"
   ]
  },
  {
   "cell_type": "code",
   "execution_count": 2,
   "id": "8d95c768",
   "metadata": {},
   "outputs": [
    {
     "name": "stdout",
     "output_type": "stream",
     "text": [
      "[2, 3, 4, 5, 6, 7]\n",
      "<class 'list'>\n"
     ]
    }
   ],
   "source": [
    "ab=[2,3,4,5,6,7]\n",
    "print(ab)\n",
    "print(type(ab))"
   ]
  },
  {
   "cell_type": "code",
   "execution_count": 3,
   "id": "add5b00b",
   "metadata": {},
   "outputs": [
    {
     "name": "stdout",
     "output_type": "stream",
     "text": [
      "[1 2 3 4 5 6]\n",
      "<class 'numpy.ndarray'>\n"
     ]
    }
   ],
   "source": [
    "a=np.array([1,2,3,4,5,6])\n",
    "print(a)\n",
    "print(type(a))"
   ]
  },
  {
   "cell_type": "code",
   "execution_count": 4,
   "id": "044de2ac",
   "metadata": {},
   "outputs": [
    {
     "name": "stdout",
     "output_type": "stream",
     "text": [
      "[1 2 3 4 5 6]\n",
      "<class 'numpy.ndarray'>\n",
      "int32\n"
     ]
    }
   ],
   "source": [
    "a=np.array([1,2,3,4,5,6])\n",
    "print(a)\n",
    "print(type(a))\n",
    "print(a.dtype)"
   ]
  },
  {
   "cell_type": "code",
   "execution_count": 5,
   "id": "fa1b9800",
   "metadata": {},
   "outputs": [
    {
     "name": "stdout",
     "output_type": "stream",
     "text": [
      "[1.  2.2 3.  4.  5.  6. ]\n",
      "<class 'numpy.ndarray'>\n",
      "float64\n"
     ]
    }
   ],
   "source": [
    "a=np.array([1,2.2,3,4,5,6])\n",
    "print(a)\n",
    "print(type(a))\n",
    "print(a.dtype)"
   ]
  },
  {
   "cell_type": "code",
   "execution_count": 6,
   "id": "e38f718e",
   "metadata": {},
   "outputs": [
    {
     "name": "stdout",
     "output_type": "stream",
     "text": [
      "['1' '2' '3' '4' '5' '6']\n",
      "<class 'numpy.ndarray'>\n",
      "<U11\n"
     ]
    }
   ],
   "source": [
    "a=np.array([1,\"2\",3,4,5,6])\n",
    "print(a)\n",
    "print(type(a))\n",
    "print(a.dtype)"
   ]
  },
  {
   "cell_type": "code",
   "execution_count": 7,
   "id": "353c05f1",
   "metadata": {},
   "outputs": [],
   "source": [
    "# Working With Dimensional Array"
   ]
  },
  {
   "cell_type": "code",
   "execution_count": 9,
   "id": "300896d0",
   "metadata": {},
   "outputs": [
    {
     "name": "stdout",
     "output_type": "stream",
     "text": [
      "1\n"
     ]
    }
   ],
   "source": [
    "# 1 d array\n",
    "import numpy\n",
    "a=numpy.array([1,2,3,4,5,6])\n",
    "print(a.ndim)\n"
   ]
  },
  {
   "cell_type": "code",
   "execution_count": 10,
   "id": "f042db26",
   "metadata": {},
   "outputs": [
    {
     "name": "stdout",
     "output_type": "stream",
     "text": [
      "0\n"
     ]
    }
   ],
   "source": [
    "# 0 D array\n",
    "a=np.array(12)\n",
    "print(a.ndim)"
   ]
  },
  {
   "cell_type": "code",
   "execution_count": 11,
   "id": "930c3a72",
   "metadata": {},
   "outputs": [
    {
     "name": "stdout",
     "output_type": "stream",
     "text": [
      "2\n"
     ]
    }
   ],
   "source": [
    "# 2 D array\n",
    "a=np.array([[12],[12]])\n",
    "print(a.ndim)\n"
   ]
  },
  {
   "cell_type": "code",
   "execution_count": 12,
   "id": "66635cbe",
   "metadata": {},
   "outputs": [
    {
     "name": "stdout",
     "output_type": "stream",
     "text": [
      "(2, 4)\n",
      "[[12 11 22 12]\n",
      " [12 11 22 12]]\n",
      "2\n",
      "int32\n",
      "<class 'numpy.ndarray'>\n"
     ]
    }
   ],
   "source": [
    "# 2 D array\n",
    "a=np.array([[12,11,22,12],[12,11,22,12]])\n",
    "print(a.shape)\n",
    "print(a)\n",
    "print(a.ndim)\n",
    "print(a.dtype)\n",
    "print(type(a))"
   ]
  },
  {
   "cell_type": "code",
   "execution_count": 13,
   "id": "13bd3a3e",
   "metadata": {},
   "outputs": [
    {
     "name": "stdout",
     "output_type": "stream",
     "text": [
      "(2, 2, 4)\n",
      "3\n",
      "[[[12 11 22 12]\n",
      "  [12 11 22 12]]\n",
      "\n",
      " [[12 11 22 12]\n",
      "  [12 11 22 12]]]\n"
     ]
    }
   ],
   "source": [
    "# 3 D array\n",
    "a=np.array([[[12,11,22,12],[12,11,22,12]],[[12,11,22,12],[12,11,22,12]]])\n",
    "print(a.shape)\n",
    "\n",
    "print(a.ndim)\n",
    "print(a)"
   ]
  },
  {
   "cell_type": "code",
   "execution_count": 14,
   "id": "29aa1c4a",
   "metadata": {},
   "outputs": [
    {
     "name": "stdout",
     "output_type": "stream",
     "text": [
      "(1, 4, 2, 4)\n",
      "4\n",
      "[[[[12 11 22 12]\n",
      "   [12 11 22 12]]\n",
      "\n",
      "  [[12 11 22 12]\n",
      "   [12 11 22 12]]\n",
      "\n",
      "  [[12 11 22 12]\n",
      "   [12 11 22 12]]\n",
      "\n",
      "  [[12 11 22 12]\n",
      "   [12 11 22 12]]]]\n"
     ]
    }
   ],
   "source": [
    "# 4 D array\n",
    "a=np.array([[[[12,11,22,12],[12,11,22,12]],[[12,11,22,12],[12,11,22,12]],[[12,11,22,12],[12,11,22,12]],[[12,11,22,12],[12,11,22,12]]]])\n",
    "print(a.shape)\n",
    "\n",
    "print(a.ndim)\n",
    "print(a)"
   ]
  },
  {
   "cell_type": "code",
   "execution_count": 15,
   "id": "bf308520",
   "metadata": {},
   "outputs": [],
   "source": [
    "## working with Reshape\n"
   ]
  },
  {
   "cell_type": "code",
   "execution_count": 16,
   "id": "109fafaa",
   "metadata": {},
   "outputs": [
    {
     "name": "stdout",
     "output_type": "stream",
     "text": [
      "2\n"
     ]
    },
    {
     "data": {
      "text/plain": [
       "array([[ 1,  2],\n",
       "       [ 3,  4],\n",
       "       [ 5,  6],\n",
       "       [ 7,  8],\n",
       "       [ 9, 10]])"
      ]
     },
     "execution_count": 16,
     "metadata": {},
     "output_type": "execute_result"
    }
   ],
   "source": [
    "# 1 D array\n",
    "a=np.array([1,2,3,4,5,6,7,8,9,10])\n",
    "ab=a.reshape(5,2)\n",
    "print(ab.ndim)\n",
    "ab"
   ]
  },
  {
   "cell_type": "code",
   "execution_count": 17,
   "id": "d2401ba3",
   "metadata": {},
   "outputs": [
    {
     "name": "stdout",
     "output_type": "stream",
     "text": [
      "3\n"
     ]
    },
    {
     "data": {
      "text/plain": [
       "array([[[ 1,  2,  3],\n",
       "        [ 4,  5,  6]],\n",
       "\n",
       "       [[ 7,  8,  9],\n",
       "        [10, 11, 12]]])"
      ]
     },
     "execution_count": 17,
     "metadata": {},
     "output_type": "execute_result"
    }
   ],
   "source": [
    "# 1 D array\n",
    "a=np.array([1,2,3,4,5,6,7,8,9,10,11,12])\n",
    "ab=a.reshape(2,2,3)\n",
    "print(ab.ndim)\n",
    "ab"
   ]
  },
  {
   "cell_type": "code",
   "execution_count": 18,
   "id": "92cdf611",
   "metadata": {},
   "outputs": [
    {
     "data": {
      "text/plain": [
       "array([  1,   6,  11,  22,  24,  25,  27,  29,  32,  82, 120])"
      ]
     },
     "execution_count": 18,
     "metadata": {},
     "output_type": "execute_result"
    }
   ],
   "source": [
    "# Array Split\n",
    "# sort\n",
    "# concate\n",
    "# filter\n",
    "# Where\n",
    "\n",
    "\n",
    "\n",
    "\n",
    "a=np.array([11,22,32,24,25,6,27,82,29,120,1])\n",
    "ab=np.sort(a)\n",
    "ab"
   ]
  },
  {
   "cell_type": "code",
   "execution_count": 19,
   "id": "a2f4ccf7",
   "metadata": {},
   "outputs": [
    {
     "data": {
      "text/plain": [
       "array([120,  82,  32,  29,  27,  25,  24,  22,  11,   6,   1])"
      ]
     },
     "execution_count": 19,
     "metadata": {},
     "output_type": "execute_result"
    }
   ],
   "source": [
    "a=np.array([11,22,32,24,25,6,27,82,29,120,1])\n",
    "ab=-np.sort(-a)\n",
    "ab\n"
   ]
  },
  {
   "cell_type": "code",
   "execution_count": 20,
   "id": "13ebed36",
   "metadata": {},
   "outputs": [
    {
     "data": {
      "text/plain": [
       "[array([11, 22]),\n",
       " array([32, 24]),\n",
       " array([25,  6]),\n",
       " array([27, 82]),\n",
       " array([ 29, 120]),\n",
       " array([ 1, 66])]"
      ]
     },
     "execution_count": 20,
     "metadata": {},
     "output_type": "execute_result"
    }
   ],
   "source": [
    "a=np.array([11,22,32,24,25,6,27,82,29,120,1,66])\n",
    "ab=np.array_split(a,6)\n",
    "ab"
   ]
  },
  {
   "cell_type": "code",
   "execution_count": 21,
   "id": "308a9d25",
   "metadata": {},
   "outputs": [
    {
     "data": {
      "text/plain": [
       "array([2])"
      ]
     },
     "execution_count": 21,
     "metadata": {},
     "output_type": "execute_result"
    }
   ],
   "source": [
    "# Working filter\n",
    "\n",
    "a=np.array([2,3,5])\n",
    "ab=np.array([True,False,False])\n",
    "ab1=a[ab]\n",
    "ab1\n",
    "    "
   ]
  },
  {
   "cell_type": "code",
   "execution_count": null,
   "id": "fdaf56be",
   "metadata": {},
   "outputs": [],
   "source": []
  }
 ],
 "metadata": {
  "kernelspec": {
   "display_name": "Python 3 (ipykernel)",
   "language": "python",
   "name": "python3"
  },
  "language_info": {
   "codemirror_mode": {
    "name": "ipython",
    "version": 3
   },
   "file_extension": ".py",
   "mimetype": "text/x-python",
   "name": "python",
   "nbconvert_exporter": "python",
   "pygments_lexer": "ipython3",
   "version": "3.9.12"
  }
 },
 "nbformat": 4,
 "nbformat_minor": 5
}
