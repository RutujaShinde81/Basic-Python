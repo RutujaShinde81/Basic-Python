{
 "cells": [
  {
   "cell_type": "markdown",
   "id": "a04ae80a",
   "metadata": {},
   "source": [
    "# For loop\n",
    "\n",
    "## Take a 5 student name with there 3 subject mark find the total and average marks\n"
   ]
  },
  {
   "cell_type": "code",
   "execution_count": 5,
   "id": "a67fc3f3",
   "metadata": {},
   "outputs": [
    {
     "name": "stdout",
     "output_type": "stream",
     "text": [
      " student name: priti\n",
      "enter the sub name:english\n",
      "enter the mark:56\n",
      "enter the sub name:math\n",
      "enter the mark:96\n",
      "enter the sub name:hindi\n",
      "enter the mark:52\n",
      " the total mark: 204 average: 68.0\n",
      " student name: komal\n",
      "enter the sub name:english\n",
      "enter the mark:75\n",
      "enter the sub name:hindi\n",
      "enter the mark:56\n",
      "enter the sub name:math\n",
      "enter the mark:96\n",
      " the total mark: 431 average: 71.83333333333333\n",
      " student name: rutuja\n",
      "enter the sub name:english\n",
      "enter the mark:85\n",
      "enter the sub name:hindi\n",
      "enter the mark:45\n",
      "enter the sub name:math\n",
      "enter the mark:75\n",
      " the total mark: 636 average: 70.66666666666667\n",
      " student name: kartik\n",
      "enter the sub name:english\n",
      "enter the mark:75\n",
      "enter the sub name:hindi\n",
      "enter the mark:63\n",
      "enter the sub name:math\n",
      "enter the mark:74\n",
      " the total mark: 848 average: 70.66666666666667\n",
      " student name: rohit\n",
      "enter the sub name:english\n",
      "enter the mark:96\n",
      "enter the sub name:hindi\n",
      "enter the mark:63\n",
      "enter the sub name:math\n",
      "enter the mark:45\n",
      " the total mark: 1052 average: 70.13333333333334\n"
     ]
    }
   ],
   "source": [
    "name=[\"priti\",\"komal\",\"rutuja\",\"kartik\",\"rohit\"]\n",
    "temp=[]\n",
    "for x in name:\n",
    "    print(\" student name:\",x)\n",
    "    for x1 in range(3):\n",
    "        sub=input(\"enter the sub name:\")\n",
    "        m=int(input(\"enter the mark:\"))\n",
    "        temp.append(m)\n",
    "        total=sum(temp)\n",
    "        avg=total/len(temp)\n",
    "    print(\" the total mark:\",total,\"average:\",avg)\n",
    "        \n",
    "        \n",
    "        "
   ]
  },
  {
   "cell_type": "markdown",
   "id": "4c904d22",
   "metadata": {},
   "source": [
    "## Take a 5 student each have 3 subject with marks.add the mark with number of charcter in student name "
   ]
  },
  {
   "cell_type": "code",
   "execution_count": 7,
   "id": "e2c38315",
   "metadata": {},
   "outputs": [
    {
     "name": "stdout",
     "output_type": "stream",
     "text": [
      "enter the student name:rutuja\n",
      "welcome: rutuja length of string: 6\n",
      "enter the mark:45\n",
      "enter the mark:63\n",
      "enter the mark:52\n",
      "total mark 160\n",
      "new_mark 166\n",
      "enter the student name:renu\n",
      "welcome: renu length of string: 4\n",
      "enter the mark:42\n",
      "enter the mark:41\n",
      "enter the mark:85\n",
      "total mark 168\n",
      "new_mark 172\n",
      "enter the student name:komal\n",
      "welcome: komal length of string: 5\n",
      "enter the mark:52\n",
      "enter the mark:45\n",
      "enter the mark:63\n",
      "total mark 160\n",
      "new_mark 165\n",
      "enter the student name:om\n",
      "welcome: om length of string: 2\n",
      "enter the mark:85\n",
      "enter the mark:45\n",
      "enter the mark:63\n",
      "total mark 193\n",
      "new_mark 195\n",
      "enter the student name:harishchandr\n",
      "welcome: harishchandr length of string: 12\n",
      "enter the mark:45\n",
      "enter the mark:41\n",
      "enter the mark:23\n",
      "total mark 109\n",
      "new_mark 121\n"
     ]
    }
   ],
   "source": [
    "name=[]\n",
    "mark=[]\n",
    "new_mark=[]\n",
    "for x in \"abcde\":\n",
    "    name=input(\"enter the student name:\")\n",
    "    length=len(name)\n",
    "    print(\"welcome:\",name,\"length of string:\",length)\n",
    "    for y in range(3):\n",
    "        m=int(input(\"enter the mark:\"))\n",
    "        mark.append(m)\n",
    "    total=sum(mark)\n",
    "    print(\"total mark\",total)\n",
    "    new_mark=total+length\n",
    "    mark.clear()\n",
    "    print(\"new_mark\",new_mark)\n",
    "        \n",
    "         "
   ]
  },
  {
   "cell_type": "markdown",
   "id": "70e6935c",
   "metadata": {},
   "source": [
    "## Take a 4 city and take a each city have 3 favourite places"
   ]
  },
  {
   "cell_type": "code",
   "execution_count": 1,
   "id": "6990a77a",
   "metadata": {},
   "outputs": [
    {
     "name": "stdout",
     "output_type": "stream",
     "text": [
      "enter the city name:Pune...\n",
      "welcome city: Pune...\n",
      "enter the favourite places:dagdusheth ganpti\n",
      "enter the favourite places:sinhgad\n",
      "enter the favourite places:parvti\n",
      "['dagdusheth ganpti', 'sinhgad', 'parvti']\n",
      "enter the city name:Mumbai\n",
      "welcome city: Mumbai\n",
      "enter the favourite places:Lal mahal\n",
      "enter the favourite places:IT sector\n",
      "enter the favourite places:film industry\n",
      "['dagdusheth ganpti', 'sinhgad', 'parvti', 'Lal mahal', 'IT sector', 'film industry']\n",
      "enter the city name:Ahemdanagr\n",
      "welcome city: Ahemdanagr\n",
      "enter the favourite places:shirdi\n",
      "enter the favourite places:chadbibi mahal\n",
      "enter the favourite places:maliwada\n",
      "['dagdusheth ganpti', 'sinhgad', 'parvti', 'Lal mahal', 'IT sector', 'film industry', 'shirdi', 'chadbibi mahal', 'maliwada']\n",
      "enter the city name:satara\n",
      "welcome city: satara\n",
      "enter the favourite places:kaas pathar\n",
      "enter the favourite places:shivsagar lake\n",
      "enter the favourite places:pratapgad fort\n",
      "['dagdusheth ganpti', 'sinhgad', 'parvti', 'Lal mahal', 'IT sector', 'film industry', 'shirdi', 'chadbibi mahal', 'maliwada', 'kaas pathar', 'shivsagar lake', 'pratapgad fort']\n"
     ]
    }
   ],
   "source": [
    "city=[]\n",
    "fav_place=[]\n",
    "for x in range(4):\n",
    "    name=input(\"enter the city name:\")\n",
    "    print(\"welcome city:\",name)\n",
    "    for x2 in range(3):\n",
    "        ab=input(\"enter the favourite places:\")\n",
    "        fav_place.append(ab)\n",
    "    print(fav_place)\n"
   ]
  },
  {
   "cell_type": "markdown",
   "id": "ee9ac3bd",
   "metadata": {},
   "source": [
    "## Pattern Programming"
   ]
  },
  {
   "cell_type": "code",
   "execution_count": 1,
   "id": "e537e963",
   "metadata": {},
   "outputs": [
    {
     "name": "stdout",
     "output_type": "stream",
     "text": [
      "Enter the no.of.rows:4\n",
      "1 \n",
      "1 2 \n",
      "1 2 3 \n",
      "1 2 3 4 \n"
     ]
    }
   ],
   "source": [
    "n = int(input(\"Enter the no.of.rows:\"))\n",
    "for i in range(n):\n",
    "    for j in range(i+1):\n",
    "        print(j+1,end=\" \")\n",
    "    print()     "
   ]
  },
  {
   "cell_type": "code",
   "execution_count": 2,
   "id": "aabfd0b5",
   "metadata": {},
   "outputs": [
    {
     "name": "stdout",
     "output_type": "stream",
     "text": [
      "Enter the no.of rows..4\n",
      "      1 \n",
      "    2 1 \n",
      "  3 2 1 \n",
      "4 3 2 1 \n"
     ]
    }
   ],
   "source": [
    "n=int(input(\"Enter the no.of rows..\"))\n",
    "for i in range(n):\n",
    "    for j in range(n-i-1):\n",
    "        print(\" \",end=\" \")\n",
    "    for j in range(i,-1,-1):\n",
    "        print(j+1,end=\" \")\n",
    "    print()     "
   ]
  },
  {
   "cell_type": "code",
   "execution_count": 3,
   "id": "c457451a",
   "metadata": {},
   "outputs": [
    {
     "name": "stdout",
     "output_type": "stream",
     "text": [
      "Enter the no.of.rows..5\n",
      "1 \n",
      "2 2 \n",
      "3 3 3 \n",
      "4 4 4 4 \n",
      "5 5 5 5 5 \n"
     ]
    }
   ],
   "source": [
    "n=int(input(\"Enter the no.of.rows..\"))\n",
    "for i in range(n):\n",
    "    for j in range(i,-1,-1):         \n",
    "        print(i+1,end=\" \")\n",
    "    print()    "
   ]
  },
  {
   "cell_type": "code",
   "execution_count": 4,
   "id": "d828ba16",
   "metadata": {},
   "outputs": [
    {
     "name": "stdout",
     "output_type": "stream",
     "text": [
      "Enter the no.of rows..6\n",
      "6 \n",
      "6 5 \n",
      "6 5 4 \n",
      "6 5 4 3 \n",
      "6 5 4 3 2 \n",
      "6 5 4 3 2 1 \n"
     ]
    }
   ],
   "source": [
    "n=int(input(\"Enter the no.of rows..\"))\n",
    "for i in range(n):\n",
    "    for j in range(i+1):\n",
    "        print(n-j,end=\" \")\n",
    "    print()   "
   ]
  },
  {
   "cell_type": "code",
   "execution_count": 5,
   "id": "670bc8b3",
   "metadata": {},
   "outputs": [
    {
     "name": "stdout",
     "output_type": "stream",
     "text": [
      "Enter the no.of rows..9\n",
      "                9 \n",
      "              8 9 \n",
      "            7 8 9 \n",
      "          6 7 8 9 \n",
      "        5 6 7 8 9 \n",
      "      4 5 6 7 8 9 \n",
      "    3 4 5 6 7 8 9 \n",
      "  2 3 4 5 6 7 8 9 \n",
      "1 2 3 4 5 6 7 8 9 \n"
     ]
    }
   ],
   "source": [
    "n=int(input(\"Enter the no.of rows..\"))\n",
    "for i in range(n):\n",
    "    for j in range(n-i-1):\n",
    "        print(\" \",end=\" \")\n",
    "    for j in range(i,-1,-1):\n",
    "        print(n-j,end=\" \")\n",
    "    print()    "
   ]
  },
  {
   "cell_type": "markdown",
   "id": "28973c22",
   "metadata": {},
   "source": [
    "## Star Pattern"
   ]
  },
  {
   "cell_type": "code",
   "execution_count": 7,
   "id": "d516a9a3",
   "metadata": {},
   "outputs": [
    {
     "name": "stdout",
     "output_type": "stream",
     "text": [
      "Enter the no. of rows6\n",
      "     * \n",
      "    * * \n",
      "   * * * \n",
      "  * * * * \n",
      " * * * * * \n",
      "* * * * * * \n"
     ]
    }
   ],
   "source": [
    "n = int(input(\"Enter the no. of rows\"))\n",
    "for i in range(0,n):\n",
    "    for j in range(0,n-i-1):\n",
    "        print(end=\" \")\n",
    "    for j in range(0, i+1):\n",
    "        print(\"*\", end=\" \")\n",
    "    print()"
   ]
  },
  {
   "cell_type": "code",
   "execution_count": 8,
   "id": "b0835a1c",
   "metadata": {},
   "outputs": [
    {
     "name": "stdout",
     "output_type": "stream",
     "text": [
      "Enter the no.of rows:5\n",
      "* \n",
      "* * \n",
      "* * * \n",
      "* * * * \n",
      "* * * * * \n",
      "* * * * * * \n"
     ]
    }
   ],
   "source": [
    "n = int(input(\"Enter the no.of rows:\"))\n",
    "for i in range(n+1):\n",
    "    for j in range(i+1):\n",
    "        print(\"*\",end=\" \")\n",
    "    print()   "
   ]
  },
  {
   "cell_type": "code",
   "execution_count": 9,
   "id": "cf206389",
   "metadata": {},
   "outputs": [
    {
     "name": "stdout",
     "output_type": "stream",
     "text": [
      "Enter the no.of rows:4\n",
      "* * * *  \n",
      "* * *  \n",
      "* *  \n",
      "*  \n",
      " \n"
     ]
    }
   ],
   "source": [
    "n = int(input(\"Enter the no.of rows:\"))\n",
    "for i in range(n+1,0,-1):    \n",
    "    for j in range(0,i-1):  \n",
    "        print(\"*\", end=' ')  \n",
    "    print(\" \")  "
   ]
  },
  {
   "cell_type": "code",
   "execution_count": null,
   "id": "c26d2af4",
   "metadata": {},
   "outputs": [],
   "source": []
  }
 ],
 "metadata": {
  "kernelspec": {
   "display_name": "Python 3 (ipykernel)",
   "language": "python",
   "name": "python3"
  },
  "language_info": {
   "codemirror_mode": {
    "name": "ipython",
    "version": 3
   },
   "file_extension": ".py",
   "mimetype": "text/x-python",
   "name": "python",
   "nbconvert_exporter": "python",
   "pygments_lexer": "ipython3",
   "version": "3.9.12"
  }
 },
 "nbformat": 4,
 "nbformat_minor": 5
}
