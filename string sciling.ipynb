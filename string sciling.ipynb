{
 "cells": [
  {
   "cell_type": "markdown",
   "id": "c35de467",
   "metadata": {},
   "source": [
    "# String Slicing"
   ]
  },
  {
   "cell_type": "code",
   "execution_count": 1,
   "id": "8206bb02",
   "metadata": {},
   "outputs": [
    {
     "name": "stdout",
     "output_type": "stream",
     "text": [
      "['math', 'physics', 'english', 'chemistry']\n"
     ]
    }
   ],
   "source": [
    "l1=[\"math\",\"physics\",\"english\",\"chemistry\"]\n",
    "print(l1)"
   ]
  },
  {
   "cell_type": "code",
   "execution_count": 2,
   "id": "65d920aa",
   "metadata": {},
   "outputs": [
    {
     "data": {
      "text/plain": [
       "'physics'"
      ]
     },
     "execution_count": 2,
     "metadata": {},
     "output_type": "execute_result"
    }
   ],
   "source": [
    "l1[-3]"
   ]
  },
  {
   "cell_type": "code",
   "execution_count": 3,
   "id": "6aeccda8",
   "metadata": {},
   "outputs": [
    {
     "data": {
      "text/plain": [
       "['math', 'physics', 'english']"
      ]
     },
     "execution_count": 3,
     "metadata": {},
     "output_type": "execute_result"
    }
   ],
   "source": [
    "l1[-5:3]"
   ]
  },
  {
   "cell_type": "code",
   "execution_count": 4,
   "id": "caf039d6",
   "metadata": {},
   "outputs": [
    {
     "data": {
      "text/plain": [
       "['chemistry']"
      ]
     },
     "execution_count": 4,
     "metadata": {},
     "output_type": "execute_result"
    }
   ],
   "source": [
    "l1[3:8]"
   ]
  },
  {
   "cell_type": "code",
   "execution_count": 5,
   "id": "4a9c05cb",
   "metadata": {},
   "outputs": [
    {
     "data": {
      "text/plain": [
       "['math', 'physics', 'english', 'chemistry']"
      ]
     },
     "execution_count": 5,
     "metadata": {},
     "output_type": "execute_result"
    }
   ],
   "source": [
    "l1[:]"
   ]
  },
  {
   "cell_type": "code",
   "execution_count": 6,
   "id": "7bb50359",
   "metadata": {},
   "outputs": [
    {
     "data": {
      "text/plain": [
       "[]"
      ]
     },
     "execution_count": 6,
     "metadata": {},
     "output_type": "execute_result"
    }
   ],
   "source": [
    "l1[:-5]"
   ]
  },
  {
   "cell_type": "code",
   "execution_count": 7,
   "id": "a97f1ce2",
   "metadata": {},
   "outputs": [
    {
     "data": {
      "text/plain": [
       "['math', 'physics', 'english', 'chemistry']"
      ]
     },
     "execution_count": 7,
     "metadata": {},
     "output_type": "execute_result"
    }
   ],
   "source": [
    "l1[::]"
   ]
  },
  {
   "cell_type": "code",
   "execution_count": 8,
   "id": "e5586f52",
   "metadata": {},
   "outputs": [
    {
     "data": {
      "text/plain": [
       "['math', 'physics', 'english', 'chemistry']"
      ]
     },
     "execution_count": 8,
     "metadata": {},
     "output_type": "execute_result"
    }
   ],
   "source": [
    "l1"
   ]
  },
  {
   "cell_type": "code",
   "execution_count": 9,
   "id": "c61b130b",
   "metadata": {},
   "outputs": [
    {
     "data": {
      "text/plain": [
       "['chemistry', 'english', 'physics', 'math', '333']"
      ]
     },
     "execution_count": 9,
     "metadata": {},
     "output_type": "execute_result"
    }
   ],
   "source": [
    "l1=[\"333\",\"math\",\"physics\",\"english\",\"chemistry\"]\n",
    "l1[::-1]"
   ]
  },
  {
   "cell_type": "code",
   "execution_count": 10,
   "id": "cee251a3",
   "metadata": {},
   "outputs": [
    {
     "data": {
      "text/plain": [
       "['physics']"
      ]
     },
     "execution_count": 10,
     "metadata": {},
     "output_type": "execute_result"
    }
   ],
   "source": [
    "l1=[\"333\",\"math\",\"physics\",\"english\",\"chemistry\"]\n",
    "l1[2::6]"
   ]
  },
  {
   "cell_type": "code",
   "execution_count": 11,
   "id": "ee9acb11",
   "metadata": {},
   "outputs": [
    {
     "data": {
      "text/plain": [
       "['physics', 'english', 'chemistry']"
      ]
     },
     "execution_count": 11,
     "metadata": {},
     "output_type": "execute_result"
    }
   ],
   "source": [
    "l=[\"333\",\"math\",\"physics\",\"english\",\"chemistry\"]\n",
    "l1[2:8]"
   ]
  },
  {
   "cell_type": "code",
   "execution_count": 12,
   "id": "146975fa",
   "metadata": {},
   "outputs": [],
   "source": [
    "l1.append(\"statistics\")"
   ]
  },
  {
   "cell_type": "code",
   "execution_count": 13,
   "id": "f91ccb7f",
   "metadata": {},
   "outputs": [],
   "source": [
    "l1.insert(2,\"histroy\")"
   ]
  },
  {
   "cell_type": "code",
   "execution_count": 14,
   "id": "720bc458",
   "metadata": {},
   "outputs": [
    {
     "name": "stdout",
     "output_type": "stream",
     "text": [
      "['333', 'math', 'histroy', 'physics', 'english', 'chemistry', 'statistics']\n"
     ]
    }
   ],
   "source": [
    "print(l1)"
   ]
  },
  {
   "cell_type": "code",
   "execution_count": 16,
   "id": "e3ffe4db",
   "metadata": {},
   "outputs": [],
   "source": [
    "l2=[\"pune\",\"satara\",\"nagar\"]\n",
    "l2.append(\"sangli\")"
   ]
  },
  {
   "cell_type": "code",
   "execution_count": 17,
   "id": "4eeca441",
   "metadata": {},
   "outputs": [
    {
     "name": "stdout",
     "output_type": "stream",
     "text": [
      "['pune', 'satara', 'nagar', 'sangli']\n"
     ]
    }
   ],
   "source": [
    "print(l2)"
   ]
  },
  {
   "cell_type": "code",
   "execution_count": 18,
   "id": "3fa7c86d",
   "metadata": {},
   "outputs": [],
   "source": [
    "l2.insert(3,\"thane\")"
   ]
  },
  {
   "cell_type": "code",
   "execution_count": 19,
   "id": "87be3861",
   "metadata": {},
   "outputs": [
    {
     "data": {
      "text/plain": [
       "['pune', 'satara', 'nagar', 'thane', 'sangli']"
      ]
     },
     "execution_count": 19,
     "metadata": {},
     "output_type": "execute_result"
    }
   ],
   "source": [
    "l2"
   ]
  },
  {
   "cell_type": "code",
   "execution_count": 20,
   "id": "31640c00",
   "metadata": {},
   "outputs": [
    {
     "name": "stdout",
     "output_type": "stream",
     "text": [
      "['pune', 'satara', 'nagar', 'thane']\n"
     ]
    }
   ],
   "source": [
    "l2.pop()\n",
    "print(l2)"
   ]
  },
  {
   "cell_type": "code",
   "execution_count": 21,
   "id": "6966bbd7",
   "metadata": {},
   "outputs": [
    {
     "name": "stdout",
     "output_type": "stream",
     "text": [
      "['pune', 'satara', 'nagar', 'thane']\n"
     ]
    }
   ],
   "source": [
    "print(l2)\n"
   ]
  },
  {
   "cell_type": "code",
   "execution_count": 22,
   "id": "6a245731",
   "metadata": {},
   "outputs": [
    {
     "name": "stdout",
     "output_type": "stream",
     "text": [
      "['pune', 'satara', 'nagar', 'thane']\n"
     ]
    }
   ],
   "source": [
    "print(l2)"
   ]
  },
  {
   "cell_type": "code",
   "execution_count": 23,
   "id": "69cb9739",
   "metadata": {},
   "outputs": [],
   "source": [
    "del(l2)"
   ]
  },
  {
   "cell_type": "code",
   "execution_count": 24,
   "id": "3dc13dd7",
   "metadata": {},
   "outputs": [
    {
     "data": {
      "text/plain": [
       "['physics']"
      ]
     },
     "execution_count": 24,
     "metadata": {},
     "output_type": "execute_result"
    }
   ],
   "source": [
    "l1=[\"333\",\"math\",\"physics\",\"english\",\"chemistry\"]\n",
    "l1[2::5]"
   ]
  },
  {
   "cell_type": "code",
   "execution_count": 25,
   "id": "fb560c7c",
   "metadata": {},
   "outputs": [
    {
     "data": {
      "text/plain": [
       "['english', 'chemistry']"
      ]
     },
     "execution_count": 25,
     "metadata": {},
     "output_type": "execute_result"
    }
   ],
   "source": [
    "l1=[\"333\",\"math\",\"physics\",\"english\",\"chemistry\"]\n",
    "l1[-2::1]"
   ]
  },
  {
   "cell_type": "code",
   "execution_count": null,
   "id": "a41bb227",
   "metadata": {},
   "outputs": [],
   "source": []
  },
  {
   "cell_type": "code",
   "execution_count": null,
   "id": "8f5353f5",
   "metadata": {},
   "outputs": [],
   "source": []
  }
 ],
 "metadata": {
  "kernelspec": {
   "display_name": "Python 3 (ipykernel)",
   "language": "python",
   "name": "python3"
  },
  "language_info": {
   "codemirror_mode": {
    "name": "ipython",
    "version": 3
   },
   "file_extension": ".py",
   "mimetype": "text/x-python",
   "name": "python",
   "nbconvert_exporter": "python",
   "pygments_lexer": "ipython3",
   "version": "3.9.12"
  }
 },
 "nbformat": 4,
 "nbformat_minor": 5
}
